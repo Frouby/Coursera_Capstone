{
    "cells": [
        {
            "cell_type": "markdown",
            "metadata": {
                "collapsed": true
            },
            "source": "### <p style=\"text-align: center;\">The purpose of this notebook is to build the final assignment of the IBM courses for Data Science :</p>\n## <p style=\"text-align: center;\">The capstone project</p>"
        },
        {
            "cell_type": "code",
            "execution_count": 1,
            "metadata": {},
            "outputs": [],
            "source": "import pandas as pd\nimport numpy as np"
        },
        {
            "cell_type": "code",
            "execution_count": 2,
            "metadata": {},
            "outputs": [
                {
                    "name": "stdout",
                    "output_type": "stream",
                    "text": "Hello Capstone Project Course!\n"
                }
            ],
            "source": "print(\"Hello Capstone Project Course!\")"
        },
        {
            "cell_type": "markdown",
            "metadata": {},
            "source": "# Introduction/Business Problem"
        },
        {
            "cell_type": "markdown",
            "metadata": {},
            "source": "   I imagine working with a company offering business analysis to others. Our current client is a person whose wish is to create his own sushi restaurant in Toronto. He does not have a particular preference about the location of his future restaurant, but would like to have it placed in a strategic position, without any cost consideration at first. That is why he asked us to help him : finding the neighborhood in Toronto which is the most interesting considering both:\n* Presence of potential clients\n* Competition with similar restaurants"
        },
        {
            "cell_type": "markdown",
            "metadata": {},
            "source": "# Data"
        },
        {
            "cell_type": "markdown",
            "metadata": {},
            "source": "To deal with this problem, I will be using the Foursquare location data. The idea is to make requests to get the venues in each of Toronto's neighborhoods. Then we will be able to work with them. In order to locate the neighborhoods and make Foursquare requests, I will first use the Wikipedia page listing these neighborhoods per postal codes, and Geocoder to get the coordinates I need.\nAs an exemple of the whole process of data collection, let's consider the first neighborhood in the Wikipedia page : Parkwoods. I collect the name and postal code, which I use to find the coordinates of the neighborhood with Geocoder. Then with this postal code I am able to find all the venues nearby thanks to Foursquare's API. This goes right into a dataframe, and I have to repeat the process for all neighborhoods."
        },
        {
            "cell_type": "markdown",
            "metadata": {},
            "source": "# Methodology"
        },
        {
            "cell_type": "code",
            "execution_count": null,
            "metadata": {},
            "outputs": [],
            "source": ""
        }
    ],
    "metadata": {
        "kernelspec": {
            "display_name": "Python 3.6",
            "language": "python",
            "name": "python3"
        },
        "language_info": {
            "codemirror_mode": {
                "name": "ipython",
                "version": 3
            },
            "file_extension": ".py",
            "mimetype": "text/x-python",
            "name": "python",
            "nbconvert_exporter": "python",
            "pygments_lexer": "ipython3",
            "version": "3.6.9"
        }
    },
    "nbformat": 4,
    "nbformat_minor": 1
}